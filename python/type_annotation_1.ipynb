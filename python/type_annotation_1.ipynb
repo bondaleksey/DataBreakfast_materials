{
 "cells": [
  {
   "cell_type": "markdown",
   "metadata": {},
   "source": [
    "# Встроенные типы\n",
    "Ко встроенным типам данных относятся:\n",
    "\n",
    "- `int`\n",
    "- `float`\n",
    "- `str`\n",
    "- `bytes`\n",
    "- `list`\n",
    "- `dict`\n",
    "- `set`\n",
    "- `frozenset`\n",
    "- ...\n",
    "\n",
    "Все их можно использовать в аннотациях типов. Причем, если нужно указать больше одного типа, например, функция может принимать и целые, и вещественные числа, используют символ `|`, обозначающий \"или\"."
   ]
  },
  {
   "cell_type": "markdown",
   "metadata": {},
   "source": [
    "**Пример 1**. Функция `some_function` принимает либо целое, либо вещественное число, а возвращает `None`."
   ]
  },
  {
   "cell_type": "code",
   "execution_count": null,
   "metadata": {},
   "outputs": [],
   "source": [
    "def some_function(number: int | float) -> None:\n",
    "    pass"
   ]
  },
  {
   "cell_type": "markdown",
   "metadata": {},
   "source": [
    "**Пример 2**. Функция `another_some_function` принимает либо целое, либо вещественное, либо комплексное число со значением по умолчанию, равным `0`. Возращает `None`."
   ]
  },
  {
   "cell_type": "code",
   "execution_count": null,
   "metadata": {},
   "outputs": [],
   "source": [
    "def another_some_function(number: int | float | complex = 0) -> None:\n",
    "    pass"
   ]
  },
  {
   "cell_type": "markdown",
   "metadata": {},
   "source": [
    "Коллекции, типа, `list`, `dict`, `tuple`, `set` и т.п., также в квадратных скобках позволяют указывать типы, входящих в них объектов.\n",
    "\n",
    "**Пример 3.** "
   ]
  },
  {
   "cell_type": "code",
   "execution_count": null,
   "metadata": {},
   "outputs": [],
   "source": [
    "lst_1: list[int]                # Все элементы списка lst_1 типа int\n",
    "tpl_2: tuple[bool]              # Все элементы кортежа tpl_2 типа bool\n",
    "tpl_3: tuple[int, bool, float]  # Кортеж tpl_3 состоит из трех элементов\n",
    "                                # Первый типа int, второй типа bool, а третий типа float\n",
    "set_4: set[int | float]         # Элементы множества set_4 либо int, либо float типов"
   ]
  },
  {
   "cell_type": "markdown",
   "metadata": {},
   "source": [
    "**Пример 4**. Функция `get_tuple` принимает список, в котором могут быть вещественные числа и/или булевы значения, а возвращает кортеж целых чисел."
   ]
  },
  {
   "cell_type": "code",
   "execution_count": null,
   "metadata": {},
   "outputs": [],
   "source": [
    "def get_tuple(lst: list[float | bool]) -> tuple[int]:\n",
    "    return tuple(int(num) for num in lst)"
   ]
  },
  {
   "cell_type": "markdown",
   "metadata": {},
   "source": [
    "**Пример 5**. Функция `do_something` принимает словарь, ключами в котором являются целые числа, а значениями либо строки, либо булевы значения. Возвращает `None`."
   ]
  },
  {
   "cell_type": "code",
   "execution_count": null,
   "metadata": {},
   "outputs": [],
   "source": [
    "def do_something(arg: dict[int, str | bool]) -> None:\n",
    "    pass"
   ]
  },
  {
   "cell_type": "markdown",
   "metadata": {},
   "source": [
    "# Типы из модуля typing\n",
    "Помимо стандартных встроенных типов, для аннотаций можно использовать типы из модуля `typing`. Там много всего - можно подробно изучить в [документации к модулю][1]. Разберем некоторые интересные:\n",
    "\n",
    "[1]: https://docs.python.org/3/library/typing.html\n",
    "\n",
    "- Any\n",
    "- Optional\n",
    "- Union\n",
    "- Literal"
   ]
  },
  {
   "cell_type": "markdown",
   "metadata": {},
   "source": [
    "**Тип `Any` (использовать, по-возможности, никогда :) )**\n",
    "\n",
    "Бывает так, что указать тип не представляется возможным, потому что точно неизвестно какие данные придут. Тогда используют тип `Any` из модуля `typing`. "
   ]
  },
  {
   "cell_type": "code",
   "execution_count": null,
   "metadata": {},
   "outputs": [],
   "source": [
    "from typing import Any\n",
    "\n",
    "def func(arg: Any) -> None:\n",
    "    pass"
   ]
  },
  {
   "cell_type": "markdown",
   "metadata": {},
   "source": [
    "Использовать часто этот тип не рекомендуется, потому что единственное, что он нам говорит о функции, что она может принимать данные любых типов. В принципе, если мы не аннотируем ее, то тоже будем думать, что она может принимать данные любых типов. Не очень информативно. Лучше все-таки разобраться, что там за данные приходят и добавить более осмысленную аннотацию.\n",
    "\n",
    "**Тип Optional**\n",
    "\n",
    "Данный тип подразумевает, что данные могут быть либо какого-то конкретного типа, либо `None`."
   ]
  },
  {
   "cell_type": "code",
   "execution_count": null,
   "metadata": {},
   "outputs": [],
   "source": [
    "from typing import Optional\n",
    "\n",
    "\n",
    "var_1: Optional[int]"
   ]
  },
  {
   "cell_type": "markdown",
   "metadata": {},
   "source": [
    "**Тип Union**\n",
    "\n",
    "Как понятно из названия типа - это объединение разных типов. По сути - это другой способ записать, что переменная может быть либо одного, либо другого типа, как мы это делали с помощью символа `|`.\n",
    "\n",
    "Код:"
   ]
  },
  {
   "cell_type": "code",
   "execution_count": null,
   "metadata": {},
   "outputs": [],
   "source": [
    "from typing import Union\n",
    "\n",
    "\n",
    "var_1: Union[int, float]\n",
    "var_2: Union[list, tuple, set]"
   ]
  },
  {
   "cell_type": "markdown",
   "metadata": {},
   "source": [
    "эквивалентен коду:"
   ]
  },
  {
   "cell_type": "code",
   "execution_count": null,
   "metadata": {},
   "outputs": [],
   "source": [
    "var_1: int | float\n",
    "var_2: list | tuple | set"
   ]
  },
  {
   "cell_type": "markdown",
   "metadata": {},
   "source": [
    "**Тип `Literal`**\n",
    "\n",
    "Используется тогда, когда ожидаются очень конкретные значения (`Literal` - от английского `\"literally\"`, то есть \"буквально\"). Например, в качестве ключей словаря могут быть только строки `'name'`, `'second_name'` и `'username'`. Тогда можно записать:"
   ]
  },
  {
   "cell_type": "code",
   "execution_count": null,
   "metadata": {},
   "outputs": [],
   "source": [
    "from typing import Literal\n",
    "\n",
    "user : dict[Literal['name'] | Literal['second_name'] | Literal['username'], str] = {}"
   ]
  },
  {
   "cell_type": "markdown",
   "metadata": {},
   "source": [
    "Во-первых, `IDE` сможет подсказать какие ключи в таком словаре доступны, а во-вторых, анализатор кода будет ругаться, если мы попробуем в такой словарь поместить какой-то другой ключ.\n",
    "\n",
    "Помимо обозначенных типов, в модуле `typing` их еще много разных, буквально, на все случаи жизни. А если и их вам не хватает - никто не мешает создавать свои классы. Чем мы и займемся в следующем шаге."
   ]
  },
  {
   "cell_type": "markdown",
   "metadata": {},
   "source": []
  }
 ],
 "metadata": {
  "language_info": {
   "name": "python"
  }
 },
 "nbformat": 4,
 "nbformat_minor": 2
}
