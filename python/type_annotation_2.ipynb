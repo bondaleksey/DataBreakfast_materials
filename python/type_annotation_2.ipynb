{
 "cells": [
  {
   "cell_type": "markdown",
   "metadata": {},
   "source": [
    "# Классы и датаклассы\n",
    "Редко, когда в более-менее большом проекте, хватает типов данных, предоставляемых интерпретатором. Один из распространенных примеров - ORM (Object-Relation Mapping) - объектно-реляционное отображение. Это когда мы хотим связать поля в базе данных с объектом Python (не обязательно Python, конечно, просто мы с вами про Python говорим). Но даже и без БД мы можем хранить данные в экземплярах классов. Пусть, у нас будет некоторый класс `User`, в котором будут следующие атрибуты:\n",
    "\n",
    "- `user_id`\n",
    "- `name`\n",
    "- `age`\n",
    "- `email`\n",
    "\n",
    "Стандартно наш класс User в Python можно оформить так:"
   ]
  },
  {
   "cell_type": "code",
   "execution_count": 1,
   "metadata": {},
   "outputs": [],
   "source": [
    "class User:\n",
    "    def __init__(self, user_id, name, age, email):\n",
    "        self.user_id = user_id\n",
    "        self.name = name\n",
    "        self.age = age\n",
    "        self.email = email"
   ]
  },
  {
   "cell_type": "markdown",
   "metadata": {},
   "source": [
    "И затем, нам никто не мешает передавать экземпляр такого класса в какую-нибудь функцию:"
   ]
  },
  {
   "cell_type": "code",
   "execution_count": 2,
   "metadata": {},
   "outputs": [
    {
     "name": "stdout",
     "output_type": "stream",
     "text": [
      "Возраст пользователя Vasiliy - 23, а email - vasya_pupkin@pochta.ru\n"
     ]
    }
   ],
   "source": [
    "def get_user_info(user: User) -> str:\n",
    "    return f'Возраст пользователя {user.name} - {user.age}, ' \\\n",
    "           f'а email - {user.email}'\n",
    "\n",
    "\n",
    "user_1: User = User(42, 'Vasiliy', 23, 'vasya_pupkin@pochta.ru')\n",
    "print(get_user_info(user_1))"
   ]
  },
  {
   "cell_type": "markdown",
   "metadata": {},
   "source": [
    "Но, скажите, вас никогда не напрягали все эти `__init__(self)` и `self.something = something`? Меня напрягали всегда :) И, к счастью, видимо, не меня одного, потому что умные люди придумали датаклассы (`dataclasses`), которые убирают за \"ширму\" все эти `__init__(self)`. Смотрите, как лаконично теперь выглядит тот же самый класс `User`:"
   ]
  },
  {
   "cell_type": "code",
   "execution_count": null,
   "metadata": {},
   "outputs": [],
   "source": [
    "from dataclasses import dataclass\n",
    "\n",
    "\n",
    "@dataclass\n",
    "class User:\n",
    "    user_id: int\n",
    "    name: str\n",
    "    age: int\n",
    "    email: str"
   ]
  },
  {
   "cell_type": "markdown",
   "metadata": {},
   "source": [
    "И код, который был у нас дальше, после объявления класса, продолжает работать точно также, без каких-либо изменений. Соответственно, и IDE нам будет атрибуты подставлять, и статический анализатор кода ошибки типов указывать. Главное не забывать перед определением датакласса писать декоратор `@dataclass` и обязательно прописывать типы атрибутов.\n",
    "\n",
    "Давайте приведу пример из разработки телеграм-ботов, чтобы немного заземлить теорию. Вот так, например, можно оформить класс Config, в экземпляре которого будут храниться конфигурационные данные для наших с вами ботов и данные для подключения к базе данных, которые мы будем получать сначала из переменных окружения:"
   ]
  },
  {
   "cell_type": "code",
   "execution_count": 3,
   "metadata": {},
   "outputs": [],
   "source": [
    "from dataclasses import dataclass\n",
    "\n",
    "\n",
    "@dataclass\n",
    "class DatabaseConfig:\n",
    "    db_host: str       # URL-адрес базы данных\n",
    "    db_user: str       # Username пользователя базы данных\n",
    "    db_password: str   # Пароль к базе данных\n",
    "    database: str      # Название базы данных\n",
    "\n",
    "\n",
    "@dataclass\n",
    "class TgBot:\n",
    "    token: str             # Токен для доступа к телеграм-боту\n",
    "    admin_ids: list[int]   # Список id администраторов бота\n",
    "\n",
    "\n",
    "@dataclass\n",
    "class Config:\n",
    "    tg_bot: TgBot\n",
    "    db: DatabaseConfig"
   ]
  },
  {
   "cell_type": "markdown",
   "metadata": {},
   "source": [
    "Если создать экземпляр класса Config:"
   ]
  },
  {
   "cell_type": "code",
   "execution_count": null,
   "metadata": {},
   "outputs": [],
   "source": [
    "config = Config(tg_bot=TgBot(token=BOT_TOKEN,\n",
    "                             admin_ids=ADMIN_IDS),\n",
    "                db=DatabaseConfig(db_host=DB_HOST,\n",
    "                                  db_user=DB_USER,\n",
    "                                  db_password=DB_PASSWORD,\n",
    "                                  database=DATABASE))"
   ]
  },
  {
   "cell_type": "markdown",
   "metadata": {},
   "source": [
    "То, например, получить токен бота можно, будет так:"
   ]
  },
  {
   "cell_type": "code",
   "execution_count": null,
   "metadata": {},
   "outputs": [],
   "source": [
    "token = config.tg_bot.token"
   ]
  },
  {
   "cell_type": "markdown",
   "metadata": {},
   "source": [
    "А пароль к базе данных так:"
   ]
  },
  {
   "cell_type": "code",
   "execution_count": null,
   "metadata": {},
   "outputs": [],
   "source": [
    "db_passw = config.db.db_password"
   ]
  },
  {
   "cell_type": "markdown",
   "metadata": {},
   "source": [
    "Дополнительные материалы по датаклассам:\n",
    "\n",
    "Статья на Хабре [\"Введение в Data classes\"][2]\n",
    "Статья на Хабре [\"9 причин использовать dataclasses в Python\"][3]\n",
    "[Материалы][5] Сергея Балакирева по DataClasses\n",
    "Если на телеграмботах не планируете останавливаться, то один способ работы с типами переменных - это [pydantic][4], более крутая штука для работы с БД и валидацией данных.\n",
    "\n",
    "[2]: https://habr.com/ru/post/415829/\n",
    "[3]: https://habr.com/ru/company/otus/blog/650257/\n",
    "[4]: https://www.youtube.com/watch?v=dOO3GmX6ukU\n",
    "[5]: https://proproprogs.ru/python_oop/python-oop-vvedenie-v-python-data-classes-chast-1\n"
   ]
  },
  {
   "cell_type": "markdown",
   "metadata": {},
   "source": [
    "# `__annotations__`\n",
    "\n",
    "Где объекты хранят аннотации типов. Для этого существует специальный атрибут `__annotations__`, который хранит аннотации в виде словаря с ключами - названиями переменных и значениями - их типами.\n",
    "\n",
    "**Пример**. Функция `get_string`, получающая на вход строку и число, а возвращающая строку."
   ]
  },
  {
   "cell_type": "code",
   "execution_count": 6,
   "metadata": {},
   "outputs": [],
   "source": [
    "def get_string(string: str, number: int) -> str:\n",
    "    return string * number"
   ]
  },
  {
   "cell_type": "markdown",
   "metadata": {},
   "source": [
    "Если обратиться к атрибуту `__annotations__` функции `get_string`: "
   ]
  },
  {
   "cell_type": "code",
   "execution_count": 7,
   "metadata": {},
   "outputs": [
    {
     "name": "stdout",
     "output_type": "stream",
     "text": [
      "{'string': <class 'str'>, 'number': <class 'int'>, 'return': <class 'str'>}\n"
     ]
    }
   ],
   "source": [
    "print(get_string.__annotations__)"
   ]
  },
  {
   "cell_type": "markdown",
   "metadata": {},
   "source": [
    "увидим следующий словарь:\n",
    "\n",
    "```\n",
    "{'string': <class 'str'>, 'number': <class 'int'>, 'return': <class 'str'>}\n",
    "```"
   ]
  },
  {
   "cell_type": "markdown",
   "metadata": {},
   "source": [
    "# Выводы\n",
    "\n",
    "**Зачем вообще нужна аннотация типов?**\n",
    "\n",
    "1. Выявление ошибок еще на этапе написания кода. С помощью `IDE` и статических анализаторов кода. А чем раньше выявлена ошибка, тем, в общем случае, дешевле ее исправить. \n",
    "2. Улучшение читаемости кода за счет явного указания, что ожидает и что возвращает функция или класс.\n",
    "3. Упрощение разработки в IDE за счет подсказок и автодополнения. В частности, в `aiogram` большое количество классов, которые являются отображением методов Telegram Bot API, и довольно удобно не лезть в документацию, а прямо внутри хэндлера, при его написаниии, получать мини-справку по доступному функционалу."
   ]
  },
  {
   "cell_type": "markdown",
   "metadata": {},
   "source": [
    "**Важная особенность 1:**\n",
    "\n",
    "Интерпретатор никак не проверяет аннотации типов. То есть код, при котором в функцию будет передан не тот тип данных, что указан в аннотации, может отработать и без ошибок. "
   ]
  },
  {
   "cell_type": "markdown",
   "metadata": {},
   "source": [
    "**Важная особенность 2:**\n",
    "\n",
    "Переменные также можно аннотировать, причем необязательно присваивать им значения. Но надо иметь в виду, что присваивать значения переменным в программе нужно до их первого использования, иначе интерпретатор выкинет исключение `NameError`."
   ]
  },
  {
   "cell_type": "markdown",
   "metadata": {},
   "source": [
    "**Для аннотаций типов используются:**\n",
    "\n",
    "1. Встроенные типы данных языка (`int`, `float`, `str`, `list`, `dict`, `tuple`...)\n",
    "2. Объекты из модуля typing (`List`, `Dict`, `NamedTuple`, `Union`, `Optional`, `Any`, `NoReturn`...)\n",
    "3. Пользовательские классы\n",
    "4. Классы из сторонних модулей\n",
    "5. Датаклассы из модуля dataclasses\n",
    "\n",
    "**Примечание.** Аннотации типов хранятся в атрибуте __annotations__ объектов."
   ]
  }
 ],
 "metadata": {
  "kernelspec": {
   "display_name": "venv",
   "language": "python",
   "name": "python3"
  },
  "language_info": {
   "codemirror_mode": {
    "name": "ipython",
    "version": 3
   },
   "file_extension": ".py",
   "mimetype": "text/x-python",
   "name": "python",
   "nbconvert_exporter": "python",
   "pygments_lexer": "ipython3",
   "version": "3.11.6"
  }
 },
 "nbformat": 4,
 "nbformat_minor": 2
}
