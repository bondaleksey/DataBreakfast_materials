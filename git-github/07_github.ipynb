{
 "cells": [
  {
   "cell_type": "markdown",
   "metadata": {},
   "source": [
    "# 1 Intro\n",
    "\n",
    "## \n",
    "\n",
    "## 1.1 Event goal & plan\n",
    "- cloning\n",
    "- registering for Github & Setting UP SSH keys\n",
    "- Creating GitHub Repos\n",
    "- working with remotes\n",
    "- git push\n",
    "\n",
    "## 1.2 About\n",
    "\n",
    "Github is a hosting platform for git repositories.\n",
    "You can:\n",
    "- put your own Git repos on Github,\n",
    "- access them from anywhere,\n",
    "- share them with people around the world.\n",
    "*Github provides additional collaboration features that are not native to Git.*\n",
    "\n",
    "There are many of competing tools that provide similar hosting and collaboration features, including:\n",
    "- **GitLab**,\n",
    "- **GBiyBucket**,\n",
    "- **Gerrit**.\n",
    "\n",
    "\n",
    "Github offers its basic service for free!\n",
    "\n",
    "## 1.3 **Permissions (to clone)?**\n",
    "Anyone can clone a repository from Github, provided the repo is public.\n",
    "You do not need to be an owner or collaborator to clone the repo locally to your machine.\n",
    "You just need the URL from Github.\n",
    "\n",
    "Pushing up your own changes to the Github repo ... that's \n",
    "another story entirely! You need permission to do that!\n",
    "\n",
    "\n",
    "## 1.4 Connecting to GitHub with SSH\n",
    "You need to be authenticated on Github to do certain operations, like pushing up code from your local machine. \n",
    "Your terminal will prompt you every single time for your Github email and password, unless ...\n",
    "You generate and configure an SSH key! Once configured, you can connect to Github without having to supply your username/password.\n",
    "\n",
    "[github-ssh](https://docs.github.com/en/authentication/connecting-to-github-with-ssh)\n",
    "\n",
    "\n",
    "1. [Checking for existing SSH keys](https://docs.github.com/en/authentication/connecting-to-github-with-ssh/checking-for-existing-ssh-keys)\n",
    "\n",
    "2. [Generating a new SSH key and adding it to the ssh-agent](https://docs.github.com/en/authentication/connecting-to-github-with-ssh/generating-a-new-ssh-key-and-adding-it-to-the-ssh-agent)\n",
    "\n",
    "3. [Add the SSH key to your Github account](https://docs.github.com/en/authentication/connecting-to-github-with-ssh/adding-a-new-ssh-key-to-your-github-account)\n",
    "\n",
    "## 1.XX We will use functions\n",
    "\n",
    "- [git clone](https://git-scm.com/docs/git-clone) to get a local copy of an existing repository\n",
    "    - git clone <url> -> Git will retrieve all the files associated with the repository and will copy them to your local machine. In addition, Git initializes a new repository on your machine, giving you access to the full Git history of the cloned project.\n",
    "\n"
   ]
  },
  {
   "cell_type": "markdown",
   "metadata": {},
   "source": [
    "# 2 Workshop\n",
    "\n",
    "# 2.XX Instructions\n",
    "\n",
    "#####  1 mkdir cloning (make folder )\n",
    "#####  2 cd cloning \n",
    "#####  3 git status (check are you in git folder?)\n",
    "#####  4 git clone https://github.com/poteto/hiring-without-whiteboards.git\n",
    "#####  5 git log --oneline (look in gitkraken)\n",
    "#####  6 cd .. (exit from folder)\n",
    "#####  7 git status (check are you in git folder?)\n",
    "#####  8 git clone https://gitlab.com/gitlab-tests/sample-project\n",
    "#####  9 git log --oneline (look in gitkraken)\n",
    "##### 10 \n",
    "\n",
    "# Make README.md file about yourself \n"
   ]
  },
  {
   "cell_type": "markdown",
   "metadata": {},
   "source": [
    "# 3 Exercise"
   ]
  },
  {
   "cell_type": "markdown",
   "metadata": {},
   "source": [
    "# 4 Repeat exercise with your data in 2-3 days "
   ]
  }
 ],
 "metadata": {
  "language_info": {
   "name": "python"
  },
  "orig_nbformat": 4
 },
 "nbformat": 4,
 "nbformat_minor": 2
}
