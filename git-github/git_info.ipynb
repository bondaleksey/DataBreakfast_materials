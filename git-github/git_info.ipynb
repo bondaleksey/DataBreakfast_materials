{
 "cells": [
  {
   "attachments": {},
   "cell_type": "markdown",
   "metadata": {},
   "source": [
    "# links, tasks and instructions ..."
   ]
  },
  {
   "attachments": {},
   "cell_type": "markdown",
   "metadata": {},
   "source": [
    "Exercises inspired by \n",
    "\n",
    "[Colt Steele](https://www.udemy.com/user/coltsteele/) course [The Git & Github Bootcamp](https://www.udemy.com/course/git-and-github-bootcamp/)"
   ]
  },
  {
   "cell_type": "markdown",
   "metadata": {},
   "source": [
    "# Structure\n",
    "\n",
    "# 1 Git functions\n",
    "# 2 Instructions\n",
    "# 3 Exercise\n",
    "# 4 Repeat exercise with your data in 2-3 days "
   ]
  },
  {
   "cell_type": "markdown",
   "metadata": {},
   "source": []
  },
  {
   "cell_type": "markdown",
   "metadata": {},
   "source": [
    "## Объявление о первой встрече Git с нуля 9 июля 2023 \n",
    "\n",
    "Цель мероприятия, чтобы Вы попробовали свои силы и: \n",
    "\n",
    "- познакомились с командами git: init, status, log, add, commit,\n",
    "- установили git к себе на компьютер,\n",
    "- выполнили задание данной встречи.\n",
    "\n",
    "Планируемый план:\n",
    "1) обзорная часть про основы Git + ответы на вопросы (10-15 минут)\n",
    "2) демонстрация (15-30 минут): \n",
    "    - подключение к удаленной (linux) VM на Yandex Cloud,\n",
    "    - установка git,\n",
    "    - настройка пользователя в git,\n",
    "    - создание папки \"учебного\" проекта,\n",
    "    - создание и правка  файлов,\n",
    "    - сохранение изменений в Git.\n",
    "3) Будет представлено задание на действия аналогичные пункту 2. \n",
    "Пока будете его делать, можете демонстрировать экран и задавать вопросы."
   ]
  },
  {
   "cell_type": "markdown",
   "metadata": {},
   "source": [
    "## Объявление о второй встрече \n",
    "### Git с нуля 16 июля 2023 c 15-17 UTC+3 \n",
    "\n",
    "Требования к занятию: \n",
    "- установленный Git, \n",
    "- выполнена настройка пользователя (введены имя и емейл пользователя) в git,\n",
    "- знакомство с командами git: init, status, log, commit, add.\n",
    "\n",
    "\n",
    "Цель мероприятия, чтобы Вы попробовали свои силы и: \n",
    "\n",
    "- совместное выполнение команд и знакомство с инструкциями на Branching,\n",
    "- совместное выполнение команд и знакомство с инструкциями на Merging,\n",
    "- познакомились с командами git: branch, switch, checkout,  merge\n",
    "- познакомились с темами: Branching, Understanding Git HEAD, Fast Forward Merges, Merge Commits, Resolving Merge Conflicts. \n",
    "\n",
    "\n",
    "Ожидаемый план мероприятия:\n",
    "1) Совместная работа на Branching (60 минут): \n",
    "    - создание папки \"учебного\" проекта,\n",
    "    - создание и правка файлов,\n",
    "    - сохранение изменений в Git,\n",
    "    - создание + наполнение веток(branches),     \n",
    "    - переходы между ветками(branches) \n",
    "    - вопросы, обсуждение.\n",
    "\n",
    "2) Мини задание, на создание дополнительной ветки, ее наполнение, переключение между ветками.\n",
    "\n",
    "3) Совместная работа на merging (45 минут): \n",
    "    - создание папки \"учебного\" проекта,\n",
    "    - создание и правка файлов,\n",
    "    - сохранение изменений в Git,\n",
    "    - создание + наполнение веток(branches),     \n",
    "    - переходы между ветками(branches), \n",
    "    - объединение веток (merge сommit), \n",
    "    - разбор случаев: Fast Forward Merge, Merge Commit with and without Conflicts, \n",
    "    - вопросы, обсуждение.\n",
    "    \n",
    "4) Мини задание, на объединение веток и решение конфликтов.\n",
    "\n",
    "Будет представлено задание для повторения пройденного на мероприятии. \n"
   ]
  },
  {
   "cell_type": "markdown",
   "metadata": {},
   "source": [
    "## Объявление о третьей встрече \n",
    "Git с нуля (третья встреча) 23 июля 2023 c 15-17 UTC+3  в Дискорд Data-Drive\n",
    "\n",
    "Github (поверхностный обзор)\n",
    "\n",
    "Обсудим:\n",
    "- Портфолио на Github [github.io](https://pages.github.com/) и [README.md](https://docs.github.com/en/account-and-profile/setting-up-and-managing-your-github-profile/customizing-your-profile/managing-your-profile-readme)\n",
    "\n",
    "- Выполним git clone, fork,\n",
    "\n",
    "- (для желающих) попробуем совместно редактировать тестовый репозиторий на Github,\n",
    "\n",
    "- подведение итогов мероприятия \"Git с нуля\".\n",
    "\n",
    "Для активного участия понадобятся: github аккаунт и желательно установленный git.\n",
    "\n",
    "(optional) Если останется время, то расскажу про:\n",
    "- \"стандартная VS нестандартная задача\",\n",
    "- как учиться на новых задачах?\n"
   ]
  },
  {
   "cell_type": "markdown",
   "metadata": {},
   "source": []
  }
 ],
 "metadata": {
  "language_info": {
   "name": "python"
  },
  "orig_nbformat": 4
 },
 "nbformat": 4,
 "nbformat_minor": 2
}
