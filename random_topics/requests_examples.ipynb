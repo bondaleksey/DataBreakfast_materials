{
 "cells": [
  {
   "cell_type": "markdown",
   "metadata": {},
   "source": [
    "# Работа с `API` с помощью библиотеки `requests`\n",
    "Давайте, в качестве небольшой практики, попробуем поработать с каким-нибудь публичным `API`. Воспользуемся для этого библиотекой `requests`. Библиотека не входит в список стандартных библиотек `Python`, поэтому ее сначала нужно установить. Для этого нужно выполнить, находясь в виртуальном окружении (если только вы не хотите поставить библиотеку глобально), команду:\n",
    "\n",
    "```\n",
    "pip install requests\n",
    "```\n",
    "\n",
    "В случае успешной установки, вы увидите что-то типа:\n",
    "\n",
    "```\n",
    "Successfully installed requests-2.28.1 urllib3-1.26.12\n",
    "```"
   ]
  },
  {
   "cell_type": "markdown",
   "metadata": {},
   "source": [
    "Давайте выясним где прямо сейчас находится Международная Космическая Станция. "
   ]
  },
  {
   "cell_type": "code",
   "execution_count": 1,
   "metadata": {},
   "outputs": [],
   "source": [
    "import requests"
   ]
  },
  {
   "cell_type": "code",
   "execution_count": 2,
   "metadata": {},
   "outputs": [
    {
     "name": "stdout",
     "output_type": "stream",
     "text": [
      "{\"iss_position\": {\"longitude\": \"91.3557\", \"latitude\": \"-6.9266\"}, \"message\": \"success\", \"timestamp\": 1713346789}\n"
     ]
    }
   ],
   "source": [
    "api_url = 'http://api.open-notify.org/iss-now.json'\n",
    "\n",
    "response = requests.get(api_url)  # Отправляем GET-запрос и сохраняем ответ в переменной response\n",
    "\n",
    "if response.status_code == 200:  # Если код ответа на запрос - 200, то смотрим, что пришло в ответе\n",
    "    print(response.text)\n",
    "else:\n",
    "    print(response.status_code)  # При другом коде ответа выводим этот код"
   ]
  },
  {
   "cell_type": "markdown",
   "metadata": {},
   "source": [
    "\"longitude\" и \"latitude\" - это, соответственно, долгота и широта текущего положения МКС.\n",
    "\n",
    "Код ответа 200 говорит об успешном выполнении запроса, соответственно, можно посмотреть, что содержится в атрибуте `text` переменной `response`."
   ]
  },
  {
   "cell_type": "markdown",
   "metadata": {},
   "source": []
  },
  {
   "cell_type": "code",
   "execution_count": 6,
   "metadata": {},
   "outputs": [],
   "source": [
    "numbersapi = 'http://numbersapi.com/43'\n",
    "\n",
    "response = requests.get(numbersapi)"
   ]
  },
  {
   "cell_type": "code",
   "execution_count": 7,
   "metadata": {},
   "outputs": [
    {
     "name": "stdout",
     "output_type": "stream",
     "text": [
      "200\n"
     ]
    }
   ],
   "source": [
    "print(response.status_code)"
   ]
  },
  {
   "cell_type": "code",
   "execution_count": 8,
   "metadata": {},
   "outputs": [
    {
     "data": {
      "text/plain": [
       "'43 is the maximum number of cars participating in a NASCAR race in the Cup Series or Nationwide Series.'"
      ]
     },
     "execution_count": 8,
     "metadata": {},
     "output_type": "execute_result"
    }
   ],
   "source": [
    "response.text"
   ]
  },
  {
   "cell_type": "code",
   "execution_count": null,
   "metadata": {},
   "outputs": [],
   "source": []
  }
 ],
 "metadata": {
  "kernelspec": {
   "display_name": "venv",
   "language": "python",
   "name": "python3"
  },
  "language_info": {
   "codemirror_mode": {
    "name": "ipython",
    "version": 3
   },
   "file_extension": ".py",
   "mimetype": "text/x-python",
   "name": "python",
   "nbconvert_exporter": "python",
   "pygments_lexer": "ipython3",
   "version": "3.11.6"
  }
 },
 "nbformat": 4,
 "nbformat_minor": 2
}
