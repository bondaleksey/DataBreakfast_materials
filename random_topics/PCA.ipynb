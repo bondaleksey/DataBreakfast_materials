{
 "cells": [
  {
   "cell_type": "markdown",
   "metadata": {},
   "source": [
    "# Метод главных компонент Principal component analysis (PCA)\n",
    "\n",
    "план ноутбука \n",
    "\n",
    "1) Основная идея \n",
    "2) пример, применение\n",
    "3) необходимый мат аппарат (сз, свд - ссылки, книги)\n",
    "4) алгоритм (ссылки статьи)\n",
    "5) ?\n"
   ]
  },
  {
   "cell_type": "markdown",
   "metadata": {},
   "source": [
    "# 1 Основная идея"
   ]
  },
  {
   "cell_type": "markdown",
   "metadata": {},
   "source": [
    "кажется пересказать ролик из статс квест ?!\n",
    "\n",
    "с примерами запуска"
   ]
  },
  {
   "cell_type": "markdown",
   "metadata": {},
   "source": [
    "# 2 Примеры применения\n",
    "\n",
    "[machinelearningmastery: How to Calculate Principal Component Analysis (PCA) from Scratch in Python](https://machinelearningmastery.com/calculate-principal-component-analysis-scratch-python/)"
   ]
  },
  {
   "cell_type": "markdown",
   "metadata": {},
   "source": [
    "# 3 Предварительные знания \n",
    "\n",
    "Основные математические понятия с которыми надо быть знакомыми:\n",
    "- собственные значения и собственные вектора (матриц)\n",
    "- матричные разложения и SVD\n",
    "\n",
    "igenvectors igenvalues \n",
    "links\n",
    "\n",
    "SVD:\n",
    "ссылки"
   ]
  },
  {
   "cell_type": "markdown",
   "metadata": {},
   "source": [
    "# 4 Основы метода (? какая книга статья???)\n",
    "\n",
    "один из источников\n",
    "https://sebastianraschka.com/Articles/2014_pca_step_by_step.html\n"
   ]
  },
  {
   "cell_type": "markdown",
   "metadata": {},
   "source": [
    "# Principal component analysis\n",
    "\n",
    "ссылки\n",
    "\n",
    "[StatQuest: Principal Component Analysis][1]\n",
    "\n",
    "[Principal Component Analysis (PCA) - Computerphile][2]\n",
    "\n",
    "[wiki: Principal component analysis][3]\n",
    "\n",
    "[Singular Value Decomposition][4]\n",
    "\n",
    "[1]: https://www.youtube.com/watch?v=FgakZw6K1QQ\n",
    "[2]: https://www.youtube.com/watch?v=TJdH6rPA-TI\n",
    "\n",
    "[3]: https://en.wikipedia.org/wiki/Principal_component_analysis\n",
    "\n",
    "[4]: https://www.youtube.com/watch?v=vSczTbgc8Rc\n",
    "\n",
    "[StatQuest: PCA - Practical Tips](https://www.youtube.com/watch?v=oRvgq966yZg)"
   ]
  },
  {
   "cell_type": "markdown",
   "metadata": {},
   "source": [
    "## Книги\n",
    "\n",
    "Голуб Ван Лоун Вычислительная линейная алгебра\n",
    "\n",
    "Деммель Вычислительная линейная алгебра"
   ]
  },
  {
   "cell_type": "markdown",
   "metadata": {},
   "source": [
    "# Формулы, СВД, еще какие? надо разобрать???"
   ]
  },
  {
   "cell_type": "markdown",
   "metadata": {},
   "source": [
    "План ноутбука:\n",
    "\n",
    "\n",
    "\n"
   ]
  },
  {
   "cell_type": "markdown",
   "metadata": {},
   "source": [
    "1) основная идея - 2д визуализация (?)(но у нас же данные с большим числом признаков, что значит 2д, черчение 3д на листе изопроекция??)\n",
    "2) SQL - матрицы (строки - сущности, столбцы - признаки)\n",
    "3) на примере 2д картинок, значение каких осей наиболее (информативно??? в некотором интуитивном смысле - наибольшая вариация вдоль этой оси)\n",
    "4) геометрическая интерпритация для 2д картинки\n",
    "в статс квест есть пример с 3д интерпритацией\n",
    "5) критерий остановки? (величины СЗ, величины разбросов дисперсий вдоль осей)\n",
    "6) математическая формулировка через SVD \n",
    "\n",
    "\n",
    "https://stepik.org/lesson/329910/step/1?unit=313250\n",
    "\n",
    "ссылки на доп источники\n",
    "\n",
    "ссылки в самом конце\n",
    "\n",
    "в большинстве тех вузов про SVD не рассказывают, может на одном из спецкурсов, может на кафедрах Прикладной математики рассказывают ... на обычных численных методах - не рассказывают (( \n",
    "И даже те кто знал со временем забывают ... (вопрос в )"
   ]
  },
  {
   "cell_type": "code",
   "execution_count": 2,
   "metadata": {},
   "outputs": [],
   "source": [
    "import pandas as pd"
   ]
  },
  {
   "cell_type": "code",
   "execution_count": 3,
   "metadata": {},
   "outputs": [],
   "source": [
    "d = {'Gene1': [10, 11, 8, 3, 1, 2],\n",
    "     'Gene2': [6, 4, 5, 3, 2.8, 1]}\n",
    "df = pd.DataFrame(data=d)"
   ]
  },
  {
   "cell_type": "markdown",
   "metadata": {},
   "source": [
    "Gene1, Gene2 - переменные (признаки), которые определены для каждого отдельного образца (мыши)"
   ]
  },
  {
   "cell_type": "code",
   "execution_count": 4,
   "metadata": {},
   "outputs": [
    {
     "data": {
      "text/html": [
       "<div>\n",
       "<style scoped>\n",
       "    .dataframe tbody tr th:only-of-type {\n",
       "        vertical-align: middle;\n",
       "    }\n",
       "\n",
       "    .dataframe tbody tr th {\n",
       "        vertical-align: top;\n",
       "    }\n",
       "\n",
       "    .dataframe thead th {\n",
       "        text-align: right;\n",
       "    }\n",
       "</style>\n",
       "<table border=\"1\" class=\"dataframe\">\n",
       "  <thead>\n",
       "    <tr style=\"text-align: right;\">\n",
       "      <th></th>\n",
       "      <th>Gene1</th>\n",
       "      <th>Gene2</th>\n",
       "    </tr>\n",
       "  </thead>\n",
       "  <tbody>\n",
       "    <tr>\n",
       "      <th>0</th>\n",
       "      <td>10</td>\n",
       "      <td>6.0</td>\n",
       "    </tr>\n",
       "    <tr>\n",
       "      <th>1</th>\n",
       "      <td>11</td>\n",
       "      <td>4.0</td>\n",
       "    </tr>\n",
       "    <tr>\n",
       "      <th>2</th>\n",
       "      <td>8</td>\n",
       "      <td>5.0</td>\n",
       "    </tr>\n",
       "    <tr>\n",
       "      <th>3</th>\n",
       "      <td>3</td>\n",
       "      <td>3.0</td>\n",
       "    </tr>\n",
       "    <tr>\n",
       "      <th>4</th>\n",
       "      <td>1</td>\n",
       "      <td>2.8</td>\n",
       "    </tr>\n",
       "    <tr>\n",
       "      <th>5</th>\n",
       "      <td>2</td>\n",
       "      <td>1.0</td>\n",
       "    </tr>\n",
       "  </tbody>\n",
       "</table>\n",
       "</div>"
      ],
      "text/plain": [
       "   Gene1  Gene2\n",
       "0     10    6.0\n",
       "1     11    4.0\n",
       "2      8    5.0\n",
       "3      3    3.0\n",
       "4      1    2.8\n",
       "5      2    1.0"
      ]
     },
     "execution_count": 4,
     "metadata": {},
     "output_type": "execute_result"
    }
   ],
   "source": [
    "df.head(6)"
   ]
  },
  {
   "cell_type": "markdown",
   "metadata": {},
   "source": [
    "plot 3d "
   ]
  },
  {
   "cell_type": "code",
   "execution_count": null,
   "metadata": {},
   "outputs": [],
   "source": [
    "d = {'Gene1': [10, 11, 8, 3, 1, 2],\n",
    "     'Gene2': [6, 4, 5, 3, 2.8, 1],\n",
    "     'Gene3': [12, 9, 10, 2.5, 1.3, 2]}\n",
    "df = pd.DataFrame(data=d)"
   ]
  },
  {
   "cell_type": "markdown",
   "metadata": {},
   "source": [
    "what about 4 genes"
   ]
  },
  {
   "cell_type": "code",
   "execution_count": null,
   "metadata": {},
   "outputs": [],
   "source": [
    "d = {'Gene1': [10, 11, 8, 3, 1, 2],\n",
    "     'Gene2': [6, 4, 5, 3, 2.8, 1],\n",
    "     'Gene3': [12, 9, 10, 2.5, 1.3, 2],\n",
    "     'Gene4': [5, 7, 6, 2, 4, 7]}\n",
    "df = pd.DataFrame(data=d)"
   ]
  },
  {
   "cell_type": "markdown",
   "metadata": {},
   "source": [
    "Как брать данные с большим числом признаков, и отображать в удобном для нас виде (2d график)"
   ]
  },
  {
   "cell_type": "markdown",
   "metadata": {},
   "source": [
    "сделать смещение точек чтобы центр был в 0,"
   ]
  },
  {
   "cell_type": "markdown",
   "metadata": {},
   "source": [
    "потом надо нарисовать сеаборрном лин рег "
   ]
  },
  {
   "cell_type": "markdown",
   "metadata": {},
   "source": [
    "https://scikit-learn.org/stable/auto_examples/decomposition/plot_pca_iris.html"
   ]
  },
  {
   "cell_type": "markdown",
   "metadata": {},
   "source": [
    "https://scikit-learn.org/stable/modules/generated/sklearn.decomposition.PCA.html"
   ]
  },
  {
   "cell_type": "markdown",
   "metadata": {},
   "source": [
    "https://machinelearningmastery.com/calculate-principal-component-analysis-scratch-python/\n"
   ]
  },
  {
   "cell_type": "markdown",
   "metadata": {},
   "source": []
  }
 ],
 "metadata": {
  "kernelspec": {
   "display_name": "venv",
   "language": "python",
   "name": "python3"
  },
  "language_info": {
   "codemirror_mode": {
    "name": "ipython",
    "version": 3
   },
   "file_extension": ".py",
   "mimetype": "text/x-python",
   "name": "python",
   "nbconvert_exporter": "python",
   "pygments_lexer": "ipython3",
   "version": "3.11.6"
  }
 },
 "nbformat": 4,
 "nbformat_minor": 2
}
