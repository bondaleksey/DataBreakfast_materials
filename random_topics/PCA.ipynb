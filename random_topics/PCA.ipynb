{
 "cells": [
  {
   "cell_type": "markdown",
   "metadata": {},
   "source": [
    "# Метод главных компонент Principal component analysis (PCA)\n",
    "\n",
    "план ноутбука \n",
    "\n",
    "1) Основная идея \n",
    "2) пример, применение\n",
    "3) необходимый мат аппарат (сз, свд - ссылки, книги)\n",
    "4) алгоритм (ссылки статьи)\n"
   ]
  },
  {
   "cell_type": "markdown",
   "metadata": {},
   "source": [
    "### Youtube (для интуиции):\n",
    "### PCA\n",
    "\n",
    "[StatQuest: Principal Component Analysis][1]\n",
    "\n",
    "[Principal Component Analysis (PCA) - Computerphile][2]\n",
    "\n",
    "[1]: https://www.youtube.com/watch?v=FgakZw6K1QQ\n",
    "[2]: https://www.youtube.com/watch?v=TJdH6rPA-TI\n",
    "\n",
    "### Linear algebra:\n",
    "\n",
    "[3blue1brown: Eigenvalues](https://www.youtube.com/watch?v=PFDu9oVAE-g)\n",
    "\n",
    "[SVD](https://www.youtube.com/watch?v=vSczTbgc8Rc)"
   ]
  },
  {
   "cell_type": "markdown",
   "metadata": {},
   "source": [
    "# 1 Основная идея"
   ]
  },
  {
   "cell_type": "markdown",
   "metadata": {},
   "source": [
    "[источник](https://stepik.org/lesson/329910/step/1?unit=313250)"
   ]
  },
  {
   "cell_type": "markdown",
   "metadata": {},
   "source": [
    "Понижение размерности это различные техники, которые **уменьшают количество исходных фичей в наборе данных, с сохранением как можно больше исходной информации (о первоначальном датасете)**. С т.з. машинного обучения это преследует несколько целей. \n",
    "\n",
    "Две из них: \n",
    "- меньшие наборы данных легче хранить и использовать для обучения,\n",
    "- уменьшив количество фичей до двух или трех мы сможем их визуализировать."
   ]
  },
  {
   "cell_type": "markdown",
   "metadata": {},
   "source": [
    "\n",
    "Метод главных компонент (Principal component analysis, PCA) это один из популярных методов понижения размерности. \n",
    "Но в действительности PCA только ищет другое представление наших данных,\n",
    "чтобы мы могли лучше разделить наши данные (что может улучшить работу ML алгоритмов).\n",
    "В процессе работы алгоритма мы определяем порядок главных компонент от наиболее значимых к менее значимым в некотором смысле. \n",
    "И понижение размерности можно произвести удаляя менее значимые компоненты (оси/\"новые признаки\").\n",
    "\n",
    "\n",
    "PCA представляет собой *ортогональное линейное преобразование*, которое отображает данные из исходного пространство признаков в новую систему координат (новое пространство, признаки уже другие). \n",
    "\n",
    "А главные компоненты — это новые переменные в этом пространстве. После преобразования количество главных компонент равно числу изначальных переменных.\n",
    "\n",
    "![](./imgs/PCA1.png)"
   ]
  },
  {
   "cell_type": "markdown",
   "metadata": {},
   "source": [
    "PCA определяется как ортогональное линейное преобразование, которое преобразует данные в новую систему координат так, что наибольшая дисперсия некоторой скалярной проекции данных приходится на первую координату (называемую первым главным компонентом), вторую по величине дисперсию на вторая координата и так далее."
   ]
  },
  {
   "cell_type": "markdown",
   "metadata": {},
   "source": [
    "При этом PCA пытается поместить максимум возможной информации (дисперсии) в первый компонент, затем максимум оставшейся информации во второй и т.д.\n",
    "\n",
    "![](./imgs/PCA2.png)"
   ]
  },
  {
   "cell_type": "markdown",
   "metadata": {},
   "source": [
    "Отбросив компоненты с маленькой информацией, мы уменьшим размерность данных с минимальными потерями.\n",
    "\n",
    "![](./imgs/PCA3.png)\n"
   ]
  },
  {
   "cell_type": "markdown",
   "metadata": {},
   "source": [
    "Недостатки PCA:\n",
    "\n",
    "- PCA ищет только линейные зависимости.\n",
    "- Полученные главные компоненты менее интерпретируемы (по сравнению с исходными данными). Так как новые компоненты, являются комбинациями исходных признаков.\n",
    "- Если мы будем удалять менее ценные компоненты, мы можем отобразить данные в 2D графики, но это приводит к потере информации, и может ухудшить точность модели."
   ]
  },
  {
   "cell_type": "markdown",
   "metadata": {},
   "source": [
    "# 2 Примеры применения\n",
    "\n",
    "[machinelearningmastery: How to Calculate Principal Component Analysis (PCA) from Scratch in Python](https://machinelearningmastery.com/calculate-principal-component-analysis-scratch-python/)"
   ]
  },
  {
   "cell_type": "markdown",
   "metadata": {},
   "source": [
    "# 2.1 PCA by numpy"
   ]
  },
  {
   "cell_type": "code",
   "execution_count": 1,
   "metadata": {},
   "outputs": [],
   "source": [
    "import numpy as np \n",
    "import pandas as pd\n",
    "import seaborn as sns\n",
    "import matplotlib.pyplot as plt"
   ]
  },
  {
   "cell_type": "code",
   "execution_count": 2,
   "metadata": {},
   "outputs": [
    {
     "name": "stdout",
     "output_type": "stream",
     "text": [
      "[[1.  2. ]\n",
      " [3.5 4.5]\n",
      " [5.  6. ]]\n"
     ]
    }
   ],
   "source": [
    "# define a matrix\n",
    "A = np.array([[1, 2], [3.5,4.5 ], [5, 6]])\n",
    "print(A)"
   ]
  },
  {
   "cell_type": "code",
   "execution_count": 3,
   "metadata": {},
   "outputs": [
    {
     "data": {
      "text/plain": [
       "<Axes: >"
      ]
     },
     "execution_count": 3,
     "metadata": {},
     "output_type": "execute_result"
    },
    {
     "data": {
      "image/png": "[encoded data removed]",
      "text/plain": [
       "<Figure size 640x480 with 1 Axes>"
      ]
     },
     "metadata": {},
     "output_type": "display_data"
    }
   ],
   "source": [
    "sns.scatterplot(x=A[:,0], y=A[:,1])"
   ]
  },
  {
   "cell_type": "code",
   "execution_count": 4,
   "metadata": {},
   "outputs": [
    {
     "name": "stdout",
     "output_type": "stream",
     "text": [
      "[3.16666667 4.16666667]\n",
      "[[-2.16666667 -2.16666667]\n",
      " [ 0.33333333  0.33333333]\n",
      " [ 1.83333333  1.83333333]]\n"
     ]
    }
   ],
   "source": [
    "# calculate the mean of each column\n",
    "M = np.mean(A.T, axis=1)\n",
    "print(M)\n",
    "# center columns by subtracting column means\n",
    "C = A - M\n",
    "print(C)"
   ]
  },
  {
   "cell_type": "code",
   "execution_count": 5,
   "metadata": {},
   "outputs": [
    {
     "data": {
      "text/plain": [
       "<Axes: >"
      ]
     },
     "execution_count": 5,
     "metadata": {},
     "output_type": "execute_result"
    },
    {
     "data": {
      "image/png": "[encoded data removed]",
      "text/plain": [
       "<Figure size 640x480 with 1 Axes>"
      ]
     },
     "metadata": {},
     "output_type": "display_data"
    }
   ],
   "source": [
    "sns.scatterplot(x=C[:,0], y=C[:,1])"
   ]
  },
  {
   "cell_type": "code",
   "execution_count": 6,
   "metadata": {},
   "outputs": [
    {
     "name": "stdout",
     "output_type": "stream",
     "text": [
      "[[4.08333333 4.08333333]\n",
      " [4.08333333 4.08333333]]\n"
     ]
    }
   ],
   "source": [
    "# calculate covariance matrix of centered matrix\n",
    "V = np.cov(C.T)\n",
    "print(V)"
   ]
  },
  {
   "cell_type": "code",
   "execution_count": 7,
   "metadata": {},
   "outputs": [
    {
     "name": "stdout",
     "output_type": "stream",
     "text": [
      "[[ 0.70710678 -0.70710678]\n",
      " [ 0.70710678  0.70710678]]\n",
      "[8.16666667e+00 8.88178420e-16]\n",
      "[[-3.06412939e+00 -7.45953456e-16]\n",
      " [ 4.71404521e-01 -2.46353095e-16]\n",
      " [ 2.59272486e+00  1.42224963e-16]]\n"
     ]
    }
   ],
   "source": [
    "# eigendecomposition of covariance matrix\n",
    "values, vectors = np.linalg.eig(V)\n",
    "print(vectors)\n",
    "print(values)\n",
    "# project data\n",
    "P = vectors.T.dot(C.T)\n",
    "print(P.T)"
   ]
  },
  {
   "cell_type": "code",
   "execution_count": 8,
   "metadata": {},
   "outputs": [
    {
     "data": {
      "image/png": "[encoded data removed]",
      "text/plain": [
       "<Figure size 640x480 with 1 Axes>"
      ]
     },
     "metadata": {},
     "output_type": "display_data"
    }
   ],
   "source": [
    "sns.scatterplot(x=C[:,0], y=C[:,1])\n",
    "origin = np.array([[0, 0],[0, 0]]) # origin point\n",
    "plt.quiver(*origin, vectors[0,:], vectors[1,:], color=['r','b'], scale = 21)\n",
    "plt.show()"
   ]
  },
  {
   "cell_type": "markdown",
   "metadata": {},
   "source": [
    "# 2.2 PCA from sklearn decomposition"
   ]
  },
  {
   "cell_type": "code",
   "execution_count": 9,
   "metadata": {},
   "outputs": [
    {
     "name": "stdout",
     "output_type": "stream",
     "text": [
      "[[1.   2.  ]\n",
      " [1.1  1.8 ]\n",
      " [0.95 2.1 ]\n",
      " [4.5  6.8 ]\n",
      " [5.   6.  ]\n",
      " [5.4  5.8 ]]\n"
     ]
    }
   ],
   "source": [
    "# Principal Component Analysis\n",
    "import numpy as np\n",
    "from sklearn.decomposition import PCA\n",
    "# define a matrix\n",
    "A = np.array([[1, 2], [1.1, 1.8], [0.95, 2.1], [4.5, 6.8], [5, 6],[5.4, 5.8]])\n",
    "print(A)"
   ]
  },
  {
   "cell_type": "code",
   "execution_count": 10,
   "metadata": {},
   "outputs": [
    {
     "data": {
      "text/plain": [
       "<Axes: >"
      ]
     },
     "execution_count": 10,
     "metadata": {},
     "output_type": "execute_result"
    },
    {
     "data": {
      "image/png": "[encoded data removed]",
      "text/plain": [
       "<Figure size 640x480 with 1 Axes>"
      ]
     },
     "metadata": {},
     "output_type": "display_data"
    }
   ],
   "source": [
    "sns.scatterplot(x=A[:,0], y=A[:,1])"
   ]
  },
  {
   "cell_type": "code",
   "execution_count": 11,
   "metadata": {},
   "outputs": [
    {
     "name": "stdout",
     "output_type": "stream",
     "text": [
      "[[ 0.68032575  0.73290987]\n",
      " [-0.73290987  0.68032575]]\n",
      "[10.0645165   0.19756683]\n",
      "[[-2.88187768  0.04236684]\n",
      " [-2.96042707 -0.1669893 ]\n",
      " [-2.84260298  0.14704491]\n",
      " [ 3.01722981  0.74274591]\n",
      " [ 2.77106479 -0.16796963]\n",
      " [ 2.89661312 -0.59719873]]\n"
     ]
    }
   ],
   "source": [
    "# create the PCA instance\n",
    "pca = PCA(2)\n",
    "# fit on data\n",
    "pca.fit(A)\n",
    "# access values and vectors\n",
    "print(pca.components_)\n",
    "print(pca.explained_variance_)\n",
    "# transform data\n",
    "B = pca.transform(A)\n",
    "print(B)"
   ]
  },
  {
   "cell_type": "code",
   "execution_count": 12,
   "metadata": {},
   "outputs": [
    {
     "name": "stdout",
     "output_type": "stream",
     "text": [
      "[2.99166667 4.08333333]\n",
      "[[-1.99166667 -2.08333333]\n",
      " [-1.89166667 -2.28333333]\n",
      " [-2.04166667 -1.98333333]\n",
      " [ 1.50833333  2.71666667]\n",
      " [ 2.00833333  1.91666667]\n",
      " [ 2.40833333  1.71666667]]\n"
     ]
    }
   ],
   "source": [
    "# calculate the mean of each column\n",
    "M = np.mean(A.T, axis=1)\n",
    "print(M)\n",
    "# center columns by subtracting column means\n",
    "C = A - M\n",
    "print(C)\n",
    "vectors = pca.components_"
   ]
  },
  {
   "cell_type": "code",
   "execution_count": 13,
   "metadata": {},
   "outputs": [
    {
     "data": {
      "image/png": "[encoded data removed]",
      "text/plain": [
       "<Figure size 640x480 with 1 Axes>"
      ]
     },
     "metadata": {},
     "output_type": "display_data"
    }
   ],
   "source": [
    "sns.scatterplot(x=C[:,0], y=C[:,1])\n",
    "origin = np.array([[0, 0],[0, 0]]) # origin point\n",
    "plt.quiver(*origin, vectors[:,0], vectors[:,1], color=['r','b'], scale = 21)\n",
    "plt.show()"
   ]
  },
  {
   "cell_type": "code",
   "execution_count": 14,
   "metadata": {},
   "outputs": [
    {
     "data": {
      "text/plain": [
       "<Axes: >"
      ]
     },
     "execution_count": 14,
     "metadata": {},
     "output_type": "execute_result"
    },
    {
     "data": {
      "image/png": "[encoded data removed]",
      "text/plain": [
       "<Figure size 640x480 with 1 Axes>"
      ]
     },
     "metadata": {},
     "output_type": "display_data"
    }
   ],
   "source": [
    "sns.scatterplot(x=B[:,0], y=B[:,1])"
   ]
  },
  {
   "cell_type": "markdown",
   "metadata": {},
   "source": [
    "# 3 Предварительные знания \n",
    "\n",
    "Основные математические понятия с которыми надо быть знакомыми:\n",
    "- собственные значения и собственные вектора, \n",
    "- матрица ковариаций,\n",
    "- матричные разложения и SVD.\n",
    "\n",
    "\n",
    "### Книги\n",
    "\n",
    "### PCA:\n",
    "- Jolliffe, I. T. (2002). Principal Component Analysis. Springer Series in Statistics. New York: Springer-Verlag. doi:10.1007/b98835. ISBN 978-0-387-95442-4\n",
    "\n",
    "### SVD:\n",
    "- Голуб Дж., ван Лоун Ч. Матричные вычисления \n",
    "- Дж. Деммель - Вычислительная линейная алгебра"
   ]
  },
  {
   "cell_type": "markdown",
   "metadata": {},
   "source": [
    "[wiki: Principal component analysis][3]\n",
    "\n",
    "[3]: https://en.wikipedia.org/wiki/Principal_component_analysis"
   ]
  },
  {
   "cell_type": "markdown",
   "metadata": {},
   "source": [
    "# 4 Основы метода\n",
    "\n",
    "[Алгоритм через матрицу ковариаций](https://en.wikipedia.org/wiki/Principal_component_analysis#Computing_PCA_using_the_covariance_method)\n",
    "\n",
    "## Алгоритм\n",
    "\n",
    "#### Шаг 1\n",
    "Нормируем исходный набор данных, приводя их к единому масштабу.\n",
    "Для этого из каждого значения вычитаем среднее значение его столбца.\n",
    "\n",
    "#### Шаг 2\n",
    "Вычисляем матрицу ковариации (на нормированных данных).\n",
    "Ковариационная матрица это квадратная матрица, на диагонали которой располагаются дисперсии векторов, а внедиагональные элементы — ковариации между векторами. Векторами здесь выступают столбцы исходного датасета. Ковариационная матрица позволяет увидеть, есть ли какая-либо связь между фичами.\n",
    "\n",
    "#### Шаг 3\n",
    "Делаем разложение матрицы ковариации на собственные вектора и собственные числа На выходе у вас должно получится столько же пар \"собственный вектор-собственное число\" сколько фичей в датасете. Собственные векторы матрицы ковариации являются направлениями осей, где наблюдается наибольшая дисперсия (т.е. раскидана большая часть информации). Эти вектора и называются главными компонентами. А собственные значения — это коэффициенты, которые отражают величину дисперсии.\n",
    "\n",
    "#### Шаг 4\n",
    "Отсортируйте собственные значения в порядке убывания вместе с соответствующим им собственными векторами. Чем больше собственное число — тем больше дисперсия. Соответственно, отсортировав их мы получим, что первый собственный вектор будет главным компонентом (который отражает наибольшую изменчивость.), второй - вторым компонентом и т.д\n",
    "\n",
    "#### Шаг 5\n",
    "Берем N первых собственных векторов. Это и есть искомые главные компоненты.\n",
    "\n",
    "#### Шаг 6\n",
    "Снижение размерности.\n",
    "Приведем исходные данные в сокращенный формат. Для этого надо перемножить исходные данные с отобранными собственными векторами\n",
    "\n",
    "$$ X_{reduced} = X_{meaned} \\cdot W_{pca}$$\n",
    "\n",
    "где\n",
    "- $X_{reduced}$ — уменьшая матрица фичей,\n",
    "- $X_{meaned}$ — матрица исходных нормированных фичей,\n",
    "- $W_{pca}$ — матрица из отобранных топ-N векторов главных компонент.\n"
   ]
  },
  {
   "cell_type": "markdown",
   "metadata": {},
   "source": [
    "\n",
    "один из источников\n",
    "https://sebastianraschka.com/Articles/2014_pca_step_by_step.html"
   ]
  },
  {
   "cell_type": "code",
   "execution_count": null,
   "metadata": {},
   "outputs": [],
   "source": []
  },
  {
   "cell_type": "code",
   "execution_count": null,
   "metadata": {},
   "outputs": [],
   "source": []
  },
  {
   "cell_type": "code",
   "execution_count": null,
   "metadata": {},
   "outputs": [],
   "source": []
  },
  {
   "cell_type": "code",
   "execution_count": null,
   "metadata": {},
   "outputs": [],
   "source": []
  },
  {
   "cell_type": "code",
   "execution_count": null,
   "metadata": {},
   "outputs": [],
   "source": []
  },
  {
   "cell_type": "code",
   "execution_count": null,
   "metadata": {},
   "outputs": [],
   "source": []
  },
  {
   "cell_type": "code",
   "execution_count": 15,
   "metadata": {},
   "outputs": [],
   "source": [
    "import pandas as pd"
   ]
  },
  {
   "cell_type": "code",
   "execution_count": 16,
   "metadata": {},
   "outputs": [],
   "source": [
    "d = {'Gene1': [10, 11, 8, 3, 1, 2],\n",
    "     'Gene2': [6, 4, 5, 3, 2.8, 1]}\n",
    "df = pd.DataFrame(data=d)"
   ]
  },
  {
   "cell_type": "markdown",
   "metadata": {},
   "source": [
    "Gene1, Gene2 - переменные (признаки), которые определены для каждого отдельного образца (мыши)"
   ]
  },
  {
   "cell_type": "code",
   "execution_count": 17,
   "metadata": {},
   "outputs": [
    {
     "data": {
      "text/html": [
       "<div>\n",
       "<style scoped>\n",
       "    .dataframe tbody tr th:only-of-type {\n",
       "        vertical-align: middle;\n",
       "    }\n",
       "\n",
       "    .dataframe tbody tr th {\n",
       "        vertical-align: top;\n",
       "    }\n",
       "\n",
       "    .dataframe thead th {\n",
       "        text-align: right;\n",
       "    }\n",
       "</style>\n",
       "<table border=\"1\" class=\"dataframe\">\n",
       "  <thead>\n",
       "    <tr style=\"text-align: right;\">\n",
       "      <th></th>\n",
       "      <th>Gene1</th>\n",
       "      <th>Gene2</th>\n",
       "    </tr>\n",
       "  </thead>\n",
       "  <tbody>\n",
       "    <tr>\n",
       "      <th>0</th>\n",
       "      <td>10</td>\n",
       "      <td>6.0</td>\n",
       "    </tr>\n",
       "    <tr>\n",
       "      <th>1</th>\n",
       "      <td>11</td>\n",
       "      <td>4.0</td>\n",
       "    </tr>\n",
       "    <tr>\n",
       "      <th>2</th>\n",
       "      <td>8</td>\n",
       "      <td>5.0</td>\n",
       "    </tr>\n",
       "    <tr>\n",
       "      <th>3</th>\n",
       "      <td>3</td>\n",
       "      <td>3.0</td>\n",
       "    </tr>\n",
       "    <tr>\n",
       "      <th>4</th>\n",
       "      <td>1</td>\n",
       "      <td>2.8</td>\n",
       "    </tr>\n",
       "    <tr>\n",
       "      <th>5</th>\n",
       "      <td>2</td>\n",
       "      <td>1.0</td>\n",
       "    </tr>\n",
       "  </tbody>\n",
       "</table>\n",
       "</div>"
      ],
      "text/plain": [
       "   Gene1  Gene2\n",
       "0     10    6.0\n",
       "1     11    4.0\n",
       "2      8    5.0\n",
       "3      3    3.0\n",
       "4      1    2.8\n",
       "5      2    1.0"
      ]
     },
     "execution_count": 17,
     "metadata": {},
     "output_type": "execute_result"
    }
   ],
   "source": [
    "df.head(6)"
   ]
  },
  {
   "cell_type": "markdown",
   "metadata": {},
   "source": [
    "plot 3d "
   ]
  },
  {
   "cell_type": "code",
   "execution_count": 18,
   "metadata": {},
   "outputs": [],
   "source": [
    "d = {'Gene1': [10, 11, 8, 3, 1, 2],\n",
    "     'Gene2': [6, 4, 5, 3, 2.8, 1],\n",
    "     'Gene3': [12, 9, 10, 2.5, 1.3, 2]}\n",
    "df = pd.DataFrame(data=d)"
   ]
  },
  {
   "cell_type": "markdown",
   "metadata": {},
   "source": [
    "what about 4 genes"
   ]
  },
  {
   "cell_type": "code",
   "execution_count": 19,
   "metadata": {},
   "outputs": [],
   "source": [
    "d = {'Gene1': [10, 11, 8, 3, 1, 2],\n",
    "     'Gene2': [6, 4, 5, 3, 2.8, 1],\n",
    "     'Gene3': [12, 9, 10, 2.5, 1.3, 2],\n",
    "     'Gene4': [5, 7, 6, 2, 4, 7]}\n",
    "df = pd.DataFrame(data=d)"
   ]
  },
  {
   "cell_type": "markdown",
   "metadata": {},
   "source": [
    "Как брать данные с большим числом признаков, и отображать в удобном для нас виде (2d график)"
   ]
  },
  {
   "cell_type": "markdown",
   "metadata": {},
   "source": [
    "сделать смещение точек чтобы центр был в 0,"
   ]
  },
  {
   "cell_type": "markdown",
   "metadata": {},
   "source": [
    "потом надо нарисовать сеаборрном лин рег "
   ]
  },
  {
   "cell_type": "markdown",
   "metadata": {},
   "source": [
    "https://scikit-learn.org/stable/auto_examples/decomposition/plot_pca_iris.html"
   ]
  },
  {
   "cell_type": "markdown",
   "metadata": {},
   "source": [
    "https://scikit-learn.org/stable/modules/generated/sklearn.decomposition.PCA.html"
   ]
  },
  {
   "cell_type": "markdown",
   "metadata": {},
   "source": [
    "https://machinelearningmastery.com/calculate-principal-component-analysis-scratch-python/\n"
   ]
  },
  {
   "cell_type": "markdown",
   "metadata": {},
   "source": []
  }
 ],
 "metadata": {
  "kernelspec": {
   "display_name": "venv",
   "language": "python",
   "name": "python3"
  },
  "language_info": {
   "codemirror_mode": {
    "name": "ipython",
    "version": 3
   },
   "file_extension": ".py",
   "mimetype": "text/x-python",
   "name": "python",
   "nbconvert_exporter": "python",
   "pygments_lexer": "ipython3",
   "version": "3.11.6"
  }
 },
 "nbformat": 4,
 "nbformat_minor": 2
}
