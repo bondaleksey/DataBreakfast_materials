{
 "cells": [
  {
   "cell_type": "markdown",
   "metadata": {},
   "source": [
    "# Principal component analysis\n",
    "\n",
    "ссылки\n",
    "\n",
    "[StatQuest: Principal Component Analysis][1]\n",
    "\n",
    "[Principal Component Analysis (PCA) - Computerphile][2]\n",
    "\n",
    "[wiki: Principal component analysis][3]\n",
    "\n",
    "[1]: https://www.youtube.com/watch?v=FgakZw6K1QQ\n",
    "[2]: https://www.youtube.com/watch?v=TJdH6rPA-TI\n",
    "\n",
    "[3]: https://en.wikipedia.org/wiki/Principal_component_analysis\n"
   ]
  },
  {
   "cell_type": "markdown",
   "metadata": {},
   "source": [
    "План ноутбука:\n",
    "\n"
   ]
  },
  {
   "cell_type": "code",
   "execution_count": null,
   "metadata": {},
   "outputs": [],
   "source": []
  }
 ],
 "metadata": {
  "language_info": {
   "name": "python"
  }
 },
 "nbformat": 4,
 "nbformat_minor": 2
}
