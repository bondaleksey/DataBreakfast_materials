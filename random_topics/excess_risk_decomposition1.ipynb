{
 "cells": [
  {
   "cell_type": "markdown",
   "metadata": {},
   "source": [
    "Main sources:\n",
    "- Course [Foundations of machine learning][1], \n",
    "- video [5. Excess Risk Decomposition][2]\n",
    "- book, chapter 4 [Foundations of Machine Learning, Second Edition][3]\n",
    "\n",
    "[1]: https://bloomberg.github.io/foml/#lectures\n",
    "[2]: https://www.youtube.com/watch?v=YA_CE9jat4I\n",
    "[3]: https://cs.nyu.edu/~mohri/mlbook/"
   ]
  },
  {
   "cell_type": "code",
   "execution_count": null,
   "metadata": {},
   "outputs": [],
   "source": []
  }
 ],
 "metadata": {
  "language_info": {
   "name": "python"
  }
 },
 "nbformat": 4,
 "nbformat_minor": 2
}
